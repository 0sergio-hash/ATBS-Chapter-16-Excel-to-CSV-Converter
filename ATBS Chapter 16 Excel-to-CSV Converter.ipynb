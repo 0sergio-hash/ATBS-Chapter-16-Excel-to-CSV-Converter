{
 "cells": [
  {
   "cell_type": "markdown",
   "metadata": {},
   "source": [
    "# [Instructions for this project](https://automatetheboringstuff.com/2e/chapter16/)"
   ]
  },
  {
   "cell_type": "code",
   "execution_count": 1,
   "metadata": {},
   "outputs": [],
   "source": [
    "import os\n",
    "hellasheets = 'C:\\\\Users\\\\Desktop\\\\hellasheets'\n",
    "os.chdir(hellasheets)"
   ]
  },
  {
   "cell_type": "code",
   "execution_count": 2,
   "metadata": {},
   "outputs": [
    {
     "name": "stdout",
     "output_type": "stream",
     "text": [
      "Converting spreadsheet-A.xlsx to CSV...\n",
      "Converting spreadsheet-B.xlsx to CSV...\n",
      "Converting spreadsheet-C.xlsx to CSV...\n"
     ]
    },
    {
     "name": "stderr",
     "output_type": "stream",
     "text": [
      "C:\\Users\\Administrator.Sergio-PC\\Anaconda2\\envs\\ibm_project\\lib\\site-packages\\ipykernel_launcher.py:13: DeprecationWarning: Call to deprecated function get_sheet_names (Use wb.sheetnames).\n",
      "  del sys.path[0]\n",
      "C:\\Users\\Administrator.Sergio-PC\\Anaconda2\\envs\\ibm_project\\lib\\site-packages\\ipykernel_launcher.py:15: DeprecationWarning: Call to deprecated function get_sheet_by_name (Use wb[sheetname]).\n",
      "  from ipykernel import kernelapp as app\n"
     ]
    },
    {
     "name": "stdout",
     "output_type": "stream",
     "text": [
      "Converting spreadsheet-D.xlsx to CSV...\n",
      "Converting spreadsheet-E.xlsx to CSV...\n",
      "Converting spreadsheet-F.xlsx to CSV...\n",
      "Converting spreadsheet-G.xlsx to CSV...\n",
      "Converting spreadsheet-H.xlsx to CSV...\n",
      "Converting spreadsheet-I.xlsx to CSV...\n",
      "Converting spreadsheet-J.xlsx to CSV...\n",
      "Converting spreadsheet-K.xlsx to CSV...\n",
      "Converting spreadsheet-L.xlsx to CSV...\n",
      "Converting spreadsheet-M.xlsx to CSV...\n",
      "Converting spreadsheet-N.xlsx to CSV...\n",
      "Converting spreadsheet-O.xlsx to CSV...\n",
      "Converting spreadsheet-P.xlsx to CSV...\n",
      "Converting spreadsheet-Q.xlsx to CSV...\n",
      "Converting spreadsheet-R.xlsx to CSV...\n",
      "Converting spreadsheet-S.xlsx to CSV...\n",
      "Converting spreadsheet-T.xlsx to CSV...\n",
      "Converting spreadsheet-U.xlsx to CSV...\n",
      "Converting spreadsheet-V.xlsx to CSV...\n",
      "Converting spreadsheet-W.xlsx to CSV...\n",
      "Converting spreadsheet-X.xlsx to CSV...\n",
      "Converting spreadsheet-Y.xlsx to CSV...\n",
      "Converting spreadsheet-Z.xlsx to CSV...\n"
     ]
    }
   ],
   "source": [
    "# Practice project: Excel-to-CSV Converter\n",
    "\n",
    "import openpyxl, os, csv\n",
    "\n",
    "for excelFile in os.listdir('.'):\n",
    "    # Skip non-xlsx files, load the workbook object.\n",
    "    if not excelFile.endswith('.xlsx'):\n",
    "        continue # skip excel files\n",
    "    \n",
    "    print(f'Converting {excelFile} to CSV...')\n",
    "    \n",
    "    wb = openpyxl.load_workbook(excelFile)\n",
    "    for sheetName in wb.get_sheet_names():\n",
    "        # Loop through every sheet in the workbook.\n",
    "        sheet = wb.get_sheet_by_name(sheetName)\n",
    "\n",
    "        # Create the CSV filename from the Excel filename and sheet title.\n",
    "        newFileName = excelFile[:-5] + '_' + sheetName + '.csv'\n",
    "        \n",
    "        # Create the csv.writer object for this CSV file.\n",
    "        csvFile = open(newFileName, 'w', newline = '')\n",
    "        csvWriter = csv.writer(csvFile)\n",
    "\n",
    "        # Loop through every row in the sheet.\n",
    "        for rowNum in range(1, sheet.max_row + 1):\n",
    "            rowData = []    # append each cell to this list\n",
    "            # Loop through each cell in the row.\n",
    "            for colNum in range(1, sheet.max_column + 1):\n",
    "                \n",
    "                # Append each cell's data to rowData.\n",
    "                cellData = sheet.cell(row = rowNum, column = colNum).value\n",
    "                rowData.append(cellData)\n",
    "            \n",
    "            # Write the rowData list to the CSV file.\n",
    "            csvWriter.writerow(rowData)\n",
    "\n",
    "        csvFile.close()"
   ]
  }
 ],
 "metadata": {
  "kernelspec": {
   "display_name": "ibm_project",
   "language": "python",
   "name": "ibm_project"
  },
  "language_info": {
   "codemirror_mode": {
    "name": "ipython",
    "version": 3
   },
   "file_extension": ".py",
   "mimetype": "text/x-python",
   "name": "python",
   "nbconvert_exporter": "python",
   "pygments_lexer": "ipython3",
   "version": "3.7.9"
  }
 },
 "nbformat": 4,
 "nbformat_minor": 4
}
